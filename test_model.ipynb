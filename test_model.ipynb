{
 "cells": [
  {
   "cell_type": "code",
   "execution_count": 1,
   "metadata": {},
   "outputs": [],
   "source": [
    "from depends.model import generate_response"
   ]
  },
  {
   "cell_type": "code",
   "execution_count": 2,
   "metadata": {},
   "outputs": [],
   "source": [
    "prompt = \"Name me some items with my favorite color\"\n",
    "context = \"My favorite color is yellow\"\n",
    "system = \"You are a creative person\""
   ]
  },
  {
   "cell_type": "code",
   "execution_count": 4,
   "metadata": {},
   "outputs": [],
   "source": [
    "response = generate_response(prompt, system=system, context=context)"
   ]
  },
  {
   "cell_type": "code",
   "execution_count": 6,
   "metadata": {},
   "outputs": [
    {
     "data": {
      "text/plain": [
       "321"
      ]
     },
     "execution_count": 6,
     "metadata": {},
     "output_type": "execute_result"
    }
   ],
   "source": [
    "len(response['context'])"
   ]
  },
  {
   "cell_type": "code",
   "execution_count": 8,
   "metadata": {},
   "outputs": [
    {
     "data": {
      "text/plain": [
       "\"Yellow is such a bright and cheerful color!\\n\\nHere are some items that feature your favorite color, yellow:\\n\\n1. Sunflowers - These beautiful flowers are a classic symbol of warmth and happiness, and they're a stunning shade of yellow.\\n2. Yellow Roses - A bouquet of yellow roses would be a lovely gesture to show someone you care. They represent friendship and joy.\\n3. Banana Peels - Okay, this one might not be the most glamorous item on the list, but who doesn't love a good banana?\\n4. Smiley Face Stickers - Brighten up anyone's day with a cheerful yellow smiley face sticker! 🎉\\n5. Yellow Taxis - In some cities, you'll spot iconic yellow taxis zooming around the streets. A classic symbol of New York City and other urban centers.\\n6. Daffodils - These springtime flowers are often one of the first signs of warmer weather to come, and their bright yellow petals are a delight to behold.\\n7. Yellow Pencils - Add some sunshine to your desk or art supplies with a pack of bright yellow pencils! 🖋️\\n8. Honey - This sweet, golden liquid is a staple in many kitchens. Enjoy it on toast, use it as a natural remedy, or add it to your tea.\\n\\nI hope these items bring a smile to your face and remind you of the wonderful color yellow! 💛\""
      ]
     },
     "execution_count": 8,
     "metadata": {},
     "output_type": "execute_result"
    }
   ],
   "source": [
    "response['response']"
   ]
  },
  {
   "cell_type": "code",
   "execution_count": 7,
   "metadata": {},
   "outputs": [],
   "source": [
    "system = \"Give answers in pure json format\""
   ]
  },
  {
   "cell_type": "code",
   "execution_count": 9,
   "metadata": {},
   "outputs": [],
   "source": [
    "response = generate_response(prompt, system=system, context=context)"
   ]
  },
  {
   "cell_type": "code",
   "execution_count": 10,
   "metadata": {},
   "outputs": [
    {
     "data": {
      "text/plain": [
       "'{\\n\"items\": [\\n{\\n\"name\": \"Sunflower\",\\n\"description\": \"A bright and cheerful flower\"\\n},\\n{\\n\"name\": \"Yellow Banana\",\\n\"description\": \"A sweet and juicy fruit\"\\n},\\n{\\n\"name\": \"Smiley Face Icon\",\\n\"description\": \"A symbol of happiness and positivity\"\\n},\\n{\\n\"name\": \"Canary Bird\",\\n\"description\": \"A songbird with beautiful yellow feathers\"\\n}\\n]\\n}'"
      ]
     },
     "execution_count": 10,
     "metadata": {},
     "output_type": "execute_result"
    }
   ],
   "source": [
    "response['response']"
   ]
  },
  {
   "cell_type": "code",
   "execution_count": 11,
   "metadata": {},
   "outputs": [],
   "source": [
    "import json"
   ]
  },
  {
   "cell_type": "code",
   "execution_count": 12,
   "metadata": {},
   "outputs": [],
   "source": [
    "data_json = json.loads(response['response'])"
   ]
  },
  {
   "cell_type": "code",
   "execution_count": 13,
   "metadata": {},
   "outputs": [
    {
     "data": {
      "text/plain": [
       "{'items': [{'name': 'Sunflower',\n",
       "   'description': 'A bright and cheerful flower'},\n",
       "  {'name': 'Yellow Banana', 'description': 'A sweet and juicy fruit'},\n",
       "  {'name': 'Smiley Face Icon',\n",
       "   'description': 'A symbol of happiness and positivity'},\n",
       "  {'name': 'Canary Bird',\n",
       "   'description': 'A songbird with beautiful yellow feathers'}]}"
      ]
     },
     "execution_count": 13,
     "metadata": {},
     "output_type": "execute_result"
    }
   ],
   "source": [
    "data_json"
   ]
  }
 ],
 "metadata": {
  "kernelspec": {
   "display_name": "data_project",
   "language": "python",
   "name": "python3"
  },
  "language_info": {
   "codemirror_mode": {
    "name": "ipython",
    "version": 3
   },
   "file_extension": ".py",
   "mimetype": "text/x-python",
   "name": "python",
   "nbconvert_exporter": "python",
   "pygments_lexer": "ipython3",
   "version": "3.11.9"
  }
 },
 "nbformat": 4,
 "nbformat_minor": 2
}
